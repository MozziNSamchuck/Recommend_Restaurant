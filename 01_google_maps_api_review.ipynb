{
 "cells": [
  {
   "cell_type": "code",
   "execution_count": 5,
   "metadata": {},
   "outputs": [],
   "source": [
    "import requests\n",
    "import pandas as pd\n",
    "\n",
    "# Step 1: Search for restaurants to get place IDs\n",
    "def search_restaurants(api_key, location):\n",
    "    base_url = \"https://maps.googleapis.com/maps/api/place/nearbysearch/json\"\n",
    "    params = {\n",
    "        \"location\": location,\n",
    "        \"radius\": 16360,\n",
    "        \"type\": \"restaurant\",\n",
    "        \"key\": api_key\n",
    "    }\n",
    "    \n",
    "    response = requests.get(base_url, params=params)\n",
    "    places = response.json().get(\"results\", [])\n",
    "    \n",
    "    return [place[\"place_id\"] for place in places]\n",
    "\n",
    "# Step 2: Fetch place details for each place ID to get reviews\n",
    "def fetch_place_details(api_key, place_id):\n",
    "    base_url = \"https://maps.googleapis.com/maps/api/place/details/json\"\n",
    "    params = {\n",
    "        \"place_id\": place_id,\n",
    "        \"fields\": \"name,reviews\",\n",
    "        \"key\": api_key\n",
    "    }\n",
    "    \n",
    "    response = requests.get(base_url, params=params)\n",
    "    return response.json().get(\"result\", {})\n",
    "\n",
    "def main(api_key, location):\n",
    "    place_ids = search_restaurants(api_key, location)\n",
    "    all_reviews = []\n",
    "\n",
    "    for place_id in place_ids:\n",
    "        details = fetch_place_details(api_key, place_id)\n",
    "        name = details.get(\"name\", \"\")\n",
    "        \n",
    "        reviews = details.get(\"reviews\", [])\n",
    "        for review in reviews:\n",
    "            all_reviews.append({\n",
    "                \"name\": name,\n",
    "                \"rating\": review.get(\"rating\"),\n",
    "                \"text\": review.get(\"text\")\n",
    "            })\n",
    "\n",
    "    df = pd.DataFrame(all_reviews)\n",
    "    df.to_excel(\"restaurant_reviews_daegu.xlsx\", index=False, engine=\"openpyxl\")\n",
    "\n",
    "\n",
    "\n",
    "# Example usage\n",
    "api_key = \"YOUR_API_KEY\"\n",
    "location = \"37.6, 127\"  # Example: 서울 37.6, 127\n",
    "main(api_key, location)\n"
   ]
  },
  {
   "cell_type": "code",
   "execution_count": null,
   "metadata": {},
   "outputs": [],
   "source": []
  }
 ],
 "metadata": {
  "kernelspec": {
   "display_name": "journey",
   "language": "python",
   "name": "python3"
  },
  "language_info": {
   "codemirror_mode": {
    "name": "ipython",
    "version": 3
   },
   "file_extension": ".py",
   "mimetype": "text/x-python",
   "name": "python",
   "nbconvert_exporter": "python",
   "pygments_lexer": "ipython3",
   "version": "3.9.19"
  }
 },
 "nbformat": 4,
 "nbformat_minor": 2
}
